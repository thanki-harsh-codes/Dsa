{
 "cells": [
  {
   "cell_type": "code",
   "execution_count": null,
   "id": "6f7acb1f-076d-4774-bcf7-cc80c66782f8",
   "metadata": {},
   "outputs": [],
   "source": []
  },
  {
   "cell_type": "code",
   "execution_count": null,
   "id": "b5586d2a-f998-4638-a94c-308ce22d07f6",
   "metadata": {},
   "outputs": [],
   "source": [
    "#Array\n",
    "#Practice questions: Easy"
   ]
  },
  {
   "cell_type": "code",
   "execution_count": null,
   "id": "5273eb09-145b-407f-ac15-835d1e075a76",
   "metadata": {},
   "outputs": [],
   "source": [
    "# 1. Write a program to find the smallest element among N inputted numbers"
   ]
  },
  {
   "cell_type": "code",
   "execution_count": 1,
   "id": "c42e5ab5-f669-40d6-9cb5-3047c3543f68",
   "metadata": {},
   "outputs": [],
   "source": [
    "import numpy as np"
   ]
  },
  {
   "cell_type": "code",
   "execution_count": 2,
   "id": "f757040e-88c5-4866-859f-e72b033c7db7",
   "metadata": {},
   "outputs": [
    {
     "name": "stdout",
     "output_type": "stream",
     "text": [
      "1\n"
     ]
    }
   ],
   "source": [
    "arr=np.array([1,2,3,4,5])\n",
    "\n",
    "def array(arr):\n",
    "    min_val=np.min(arr)\n",
    "    return min_val\n",
    "\n",
    "result=array(arr)\n",
    "print(result)\n"
   ]
  },
  {
   "cell_type": "code",
   "execution_count": null,
   "id": "fc72b326-80b9-4b0d-9d18-ec5f9bb5098a",
   "metadata": {},
   "outputs": [],
   "source": [
    "# 2. Write a program to rearrange an array in reverse order without using a second array."
   ]
  },
  {
   "cell_type": "code",
   "execution_count": 4,
   "id": "304a4432-2d5d-4e2e-9d6b-73b88f78ccb7",
   "metadata": {},
   "outputs": [
    {
     "name": "stdout",
     "output_type": "stream",
     "text": [
      "[2 8 6 4 3 7]\n"
     ]
    }
   ],
   "source": [
    "arr=np.array([7,3,4,6,8,2])\n",
    "\n",
    "def array(arr):\n",
    "    print(arr[::-1])\n",
    "\n",
    "array(arr)"
   ]
  },
  {
   "cell_type": "code",
   "execution_count": null,
   "id": "f775b159-a77f-4c68-a494-c2a83dce94a1",
   "metadata": {},
   "outputs": [],
   "source": [
    "# 3. Write a program to calculate standard deviation of N numbers "
   ]
  },
  {
   "cell_type": "code",
   "execution_count": 5,
   "id": "7114a4f9-c003-4296-a26d-f0dcdb3563b3",
   "metadata": {},
   "outputs": [],
   "source": [
    "arr=np.array([7,3,4,5,6,9,8])\n",
    "def calc(arr):\n",
    "    l=len(arr)\n",
    "    sum=0\n",
    "    n=[]\n",
    "    m=0\n",
    "    for x in arr:\n",
    "        sum=sum+x\n",
    "\n",
    "    mean=sum/l\n",
    "    for x in arr:\n",
    "        v=(x-mean)**2\n",
    "        n.append(v)\n",
    "\n",
    "    for i in n:\n",
    "        m=i+m\n",
    "\n",
    "    variance=m/l\n",
    "    standard_deviation=(variance)**0.5\n",
    "    return standard_deviation\n",
    "\n",
    "     "
   ]
  },
  {
   "cell_type": "code",
   "execution_count": 6,
   "id": "f95773fe-5777-4d3e-b5dc-dcf12e69d59f",
   "metadata": {},
   "outputs": [
    {
     "data": {
      "text/plain": [
       "2.0"
      ]
     },
     "execution_count": 6,
     "metadata": {},
     "output_type": "execute_result"
    }
   ],
   "source": [
    "calc(arr)"
   ]
  },
  {
   "cell_type": "code",
   "execution_count": null,
   "id": "388fb7f5-d2b5-4ec4-9380-aa3b6e8addeb",
   "metadata": {},
   "outputs": [],
   "source": [
    "# 4. Write a program to count odd numbers in a set of integers"
   ]
  },
  {
   "cell_type": "code",
   "execution_count": 7,
   "id": "465b8054-1527-4027-bd37-e98bb8e517e1",
   "metadata": {},
   "outputs": [
    {
     "data": {
      "text/plain": [
       "4"
      ]
     },
     "execution_count": 7,
     "metadata": {},
     "output_type": "execute_result"
    }
   ],
   "source": [
    "arr=np.array([7,3,4,5,6,9,8])\n",
    "def int(arr):\n",
    "    count=0\n",
    "    for i in arr:\n",
    "        if i%2==1:\n",
    "            count+=1\n",
    "\n",
    "    return count\n",
    "\n",
    "int(arr)"
   ]
  },
  {
   "cell_type": "code",
   "execution_count": null,
   "id": "f658bef7-a27f-4502-a9e1-547cfb4a6378",
   "metadata": {},
   "outputs": [],
   "source": [
    "# 5. Write a program to largest odd number in a set of integers."
   ]
  },
  {
   "cell_type": "code",
   "execution_count": 9,
   "id": "2239106a-a1f3-489f-8e25-ad85d2d511aa",
   "metadata": {},
   "outputs": [
    {
     "data": {
      "text/plain": [
       "9"
      ]
     },
     "execution_count": 9,
     "metadata": {},
     "output_type": "execute_result"
    }
   ],
   "source": [
    "arr=np.array([7,3,4,5,6,9,8])\n",
    "def int(arr):\n",
    "    new=[]\n",
    "    for i in arr:\n",
    "        if i%2==1:\n",
    "            new.append(i)\n",
    "\n",
    "    x=np.max(new)\n",
    "    return x\n",
    "\n",
    "int(arr)"
   ]
  },
  {
   "cell_type": "code",
   "execution_count": null,
   "id": "e27fe7ad-b0cf-4f2c-b5a0-01e4d375a600",
   "metadata": {},
   "outputs": [],
   "source": [
    "# 6. Write a program to count the total number of prime numbers in a set of integers"
   ]
  },
  {
   "cell_type": "code",
   "execution_count": 1,
   "id": "f2640c64-7c04-4fd6-854e-bd183bc7b26e",
   "metadata": {},
   "outputs": [
    {
     "name": "stdout",
     "output_type": "stream",
     "text": [
      "Prime numbers: [7, 3, 5]\n",
      "Total prime numbers: 3\n"
     ]
    }
   ],
   "source": [
    "\n",
    "\n",
    "import numpy as np\n",
    "\n",
    "def is_prime(n):\n",
    "   \n",
    "    if n < 2:\n",
    "        return False\n",
    "    for i in range(2, int(n ** 0.5) + 1):\n",
    "        if n % i == 0:\n",
    "            return False\n",
    "    return True\n",
    "\n",
    "def count_primes(arr):\n",
    "   \n",
    "    count = 0\n",
    "    primes = []  \n",
    "    for num in arr:\n",
    "        if is_prime(num):\n",
    "            primes.append(num)\n",
    "            count += 1\n",
    "    print(\"Prime numbers:\", primes) \n",
    "    return count\n",
    "\n",
    "\n",
    "arr = np.array([7, 3, 4, 5, 6, 9, 8])\n",
    "print(\"Total prime numbers:\", count_primes(arr))\n"
   ]
  },
  {
   "cell_type": "code",
   "execution_count": null,
   "id": "b451b652-2cd3-4907-b49e-e029692c0ee9",
   "metadata": {},
   "outputs": [],
   "source": [
    "# 7. Write a program to find the second highest element among N inputted numbers. "
   ]
  },
  {
   "cell_type": "code",
   "execution_count": 3,
   "id": "cb12ca33-f920-4f0d-99be-055bf80afacc",
   "metadata": {},
   "outputs": [
    {
     "data": {
      "text/plain": [
       "8"
      ]
     },
     "execution_count": 3,
     "metadata": {},
     "output_type": "execute_result"
    }
   ],
   "source": [
    "arr=np.array([7,3,4,5,6,9,8])\n",
    "def calc(arr):\n",
    "    x=np.sort(arr)\n",
    "    y=x[-2]\n",
    "    return y\n",
    "\n",
    "calc(arr)"
   ]
  },
  {
   "cell_type": "code",
   "execution_count": null,
   "id": "ca613245-6a11-402a-ac7d-c28d7453cbd0",
   "metadata": {},
   "outputs": [],
   "source": [
    "# 8. Write a program to find the largest difference in a set of numbers"
   ]
  },
  {
   "cell_type": "code",
   "execution_count": 9,
   "id": "b7855290-7cad-4b05-b442-29f91e43b6c4",
   "metadata": {},
   "outputs": [
    {
     "data": {
      "text/plain": [
       "2"
      ]
     },
     "execution_count": 9,
     "metadata": {},
     "output_type": "execute_result"
    }
   ],
   "source": [
    "arr=np.array([7,3,4,5,6,9,8])\n",
    "def calc(arr):\n",
    "    x=[]\n",
    "    for n in arr:\n",
    "        y=n-arr[0]\n",
    "        x.append(y)\n",
    "    \n",
    "    w=np.max(x)\n",
    "    return w\n",
    "\n",
    "calc(arr)\n",
    "        "
   ]
  },
  {
   "cell_type": "code",
   "execution_count": null,
   "id": "1939f2a0-e8c2-46a0-a3ae-26492c858e3a",
   "metadata": {},
   "outputs": [],
   "source": [
    "# 9. Write a program to find the binary equivalent of a decimal numbers"
   ]
  },
  {
   "cell_type": "code",
   "execution_count": 11,
   "id": "646ee432-9c49-4a5a-85a9-64a587b0a3df",
   "metadata": {},
   "outputs": [
    {
     "name": "stdin",
     "output_type": "stream",
     "text": [
      "Enter a decimal number:  13\n"
     ]
    },
    {
     "name": "stdout",
     "output_type": "stream",
     "text": [
      "The binary equivalent of 13 is 1101\n"
     ]
    }
   ],
   "source": [
    "def decimal_to_binary(n):\n",
    "    \n",
    "    binary = \"\"\n",
    "    \n",
    "    \n",
    "    if n == 0:\n",
    "        return \"0\"\n",
    "    \n",
    "    \n",
    "    while n > 0:\n",
    "        binary = str(n % 2) + binary  \n",
    "        n = n // 2  \n",
    "    \n",
    "    return binary\n",
    "\n",
    "\n",
    "decimal_number = int(input(\"Enter a decimal number: \"))\n",
    "binary_representation = decimal_to_binary(decimal_number)\n",
    "print(f\"The binary equivalent of {decimal_number} is {binary_representation}\")\n"
   ]
  },
  {
   "cell_type": "code",
   "execution_count": null,
   "id": "09d05fb4-2755-4ad0-96b1-944dda3df796",
   "metadata": {},
   "outputs": [],
   "source": [
    "# 10. Write a program to delete an element from the k-th position of an array."
   ]
  },
  {
   "cell_type": "code",
   "execution_count": 12,
   "id": "db491909-a17a-4378-8aa0-7b631806714b",
   "metadata": {},
   "outputs": [
    {
     "data": {
      "text/plain": [
       "array([7, 3, 5, 6, 9, 8])"
      ]
     },
     "execution_count": 12,
     "metadata": {},
     "output_type": "execute_result"
    }
   ],
   "source": [
    "arr=np.array([7,3,4,5,6,9,8])\n",
    "def calc(arr,k):\n",
    "    return np.delete(arr,k)\n",
    "\n",
    "calc(arr,2)\n",
    "    "
   ]
  },
  {
   "cell_type": "code",
   "execution_count": null,
   "id": "68dbfad6-637f-41b3-a553-76ffb26288c9",
   "metadata": {},
   "outputs": [],
   "source": [
    "# 11. Write a program to insert an element at its proper position in a previously sorted array."
   ]
  },
  {
   "cell_type": "code",
   "execution_count": 13,
   "id": "85024c8d-0945-401a-b4f9-66528bc8871a",
   "metadata": {},
   "outputs": [
    {
     "data": {
      "text/plain": [
       "array([ 7,  3, 77,  4,  5,  6,  9,  8])"
      ]
     },
     "execution_count": 13,
     "metadata": {},
     "output_type": "execute_result"
    }
   ],
   "source": [
    "arr=np.array([7,3,4,5,6,9,8])\n",
    "def calc(arr,k,element):\n",
    "    return np.insert(arr,k,element)\n",
    "\n",
    "calc(arr,2,77)"
   ]
  },
  {
   "cell_type": "code",
   "execution_count": null,
   "id": "8c050753-46fe-461d-9339-cf91054d8a4f",
   "metadata": {},
   "outputs": [],
   "source": [
    "# 12. Write a program to find the union of two sets of numbers"
   ]
  },
  {
   "cell_type": "code",
   "execution_count": 19,
   "id": "0d090ef5-2aec-4c0a-8a15-cd4df4bab141",
   "metadata": {},
   "outputs": [
    {
     "name": "stdout",
     "output_type": "stream",
     "text": [
      "The union of the two arrays is: {1, 2, 3, 4, 5, 6, 7, 8, 9}\n"
     ]
    }
   ],
   "source": [
    "import numpy as np\n",
    "\n",
    "def calc(arr, narr):\n",
    "    a = set(arr)  \n",
    "    b = set(narr)  \n",
    "    return a | b  \n",
    "\n",
    "\n",
    "arr = np.array([7, 3, 4, 5, 6, 9, 8])\n",
    "narr = np.array([1, 2, 3, 4, 5, 6, 7])\n",
    "\n",
    "union_result = calc(arr, narr)\n",
    "print(f\"The union of the two arrays is: {union_result}\")\n"
   ]
  },
  {
   "cell_type": "code",
   "execution_count": null,
   "id": "af09c3e2-84d0-478a-8df3-e718d7561a33",
   "metadata": {},
   "outputs": [],
   "source": []
  },
  {
   "cell_type": "code",
   "execution_count": null,
   "id": "126b241c-a56b-4d55-88b1-3fa247b62ed0",
   "metadata": {},
   "outputs": [],
   "source": [
    "# Practice questions: Intermediate"
   ]
  },
  {
   "cell_type": "code",
   "execution_count": null,
   "id": "9372f118-a733-49fd-9a3c-ee3a1273cf84",
   "metadata": {},
   "outputs": [],
   "source": [
    "#  1. Move Zeroes to the End\n",
    "     #  • Problem: Write a function that moves all zeroes in an array to the end\n",
    "     #  while maintaining the relative order of the non-zero elements.\n",
    "     #  • Input: arr = [0, 1, 0, 3, 12]\n",
    "     #  • Output: [1, 3, 12, 0, 0]"
   ]
  },
  {
   "cell_type": "code",
   "execution_count": 24,
   "id": "2a09211e-6d08-48f7-9171-4c1d6dfad356",
   "metadata": {},
   "outputs": [
    {
     "name": "stdout",
     "output_type": "stream",
     "text": [
      "Array after moving zeroes to the end: [1, 3, 12, 0, 0]\n"
     ]
    }
   ],
   "source": [
    "def move_zeroes_to_end(arr):\n",
    "    \n",
    "    non_zero_index = 0  \n",
    "    \n",
    "    \n",
    "    for i in range(len(arr)):\n",
    "        if arr[i] != 0:\n",
    "            arr[non_zero_index] = arr[i]\n",
    "            if non_zero_index != i:\n",
    "                arr[i] = 0  \n",
    "            non_zero_index += 1\n",
    "\n",
    "    return arr\n",
    "\n",
    "\n",
    "arr = [0, 1, 0, 3, 12]\n",
    "result = move_zeroes_to_end(arr)\n",
    "print(f\"Array after moving zeroes to the end: {result}\")\n"
   ]
  },
  {
   "cell_type": "code",
   "execution_count": null,
   "id": "07f35026-7daf-4e63-b8ea-788d9b73d570",
   "metadata": {},
   "outputs": [],
   "source": [
    "# 2. Array rotation\n",
    "  # • Problem : write a python function to rotate an array to the right kth\n",
    "  #position.\n",
    "  #• Input: arr = [1,2,3,4,5]\n",
    "  #• Output: [4,5,1,2,3]"
   ]
  },
  {
   "cell_type": "code",
   "execution_count": 26,
   "id": "3f175d37-ba32-40bb-8a72-10edc5264377",
   "metadata": {},
   "outputs": [
    {
     "data": {
      "text/plain": [
       "[40, 10, 20, 30]"
      ]
     },
     "execution_count": 26,
     "metadata": {},
     "output_type": "execute_result"
    }
   ],
   "source": [
    "def new(k):\n",
    "    arr=[10,20,30,40]\n",
    "    n=len(arr)\n",
    "    if k>n:\n",
    "        k=k-n\n",
    "    elif k==0:\n",
    "        print('no rotation')\n",
    "    else:\n",
    "        return arr[k:]+arr[:k] \n",
    "\n",
    "new(3)"
   ]
  },
  {
   "cell_type": "code",
   "execution_count": null,
   "id": "fe946ce5-8dca-4ffc-8688-75a63faee583",
   "metadata": {},
   "outputs": [],
   "source": [
    "# 3. Product of All Elements Except Itself\n",
    "    #• Problem: Given an array of integers, return a new array such that each\n",
    "    #element at index i is the product of all the numbers in the array except\n",
    "    #the one at i.\n",
    "    #• Input: arr = [1, 2, 3, 4]\n",
    "    #• Output: [24, 12, 8, 6]"
   ]
  },
  {
   "cell_type": "code",
   "execution_count": 30,
   "id": "ed7283d5-c0fc-4da4-a8ee-815e09e28e7d",
   "metadata": {},
   "outputs": [
    {
     "name": "stdout",
     "output_type": "stream",
     "text": [
      "[24, 12, 8, 6]\n"
     ]
    }
   ],
   "source": [
    "import numpy as np\n",
    "\n",
    "arr = np.array([1, 2, 3, 4])\n",
    "m = [] \n",
    "\n",
    "\n",
    "for i in range(len(arr)):\n",
    "    prod = 1\n",
    "    for j in range(len(arr)):\n",
    "        if i != j:\n",
    "            prod *= arr[j]\n",
    "    m.append(prod)\n",
    "\n",
    "print(m)\n",
    "\n"
   ]
  },
  {
   "cell_type": "code",
   "execution_count": null,
   "id": "f53d8ed1-c1bc-4d35-8a9d-bdead2092fa1",
   "metadata": {},
   "outputs": [],
   "source": []
  },
  {
   "cell_type": "code",
   "execution_count": null,
   "id": "38d84874-9a39-41ce-bb21-fc627c59e7b8",
   "metadata": {},
   "outputs": [],
   "source": [
    "# 4. Two Sum Problem\n",
    "     #• Problem: Given an array of integers and a target value, return the indices\n",
    "     #of the two numbers such that they add up to the target.\n",
    "     #• Input: arr = [2, 7, 11, 15], target = 9\n",
    "     #• Output: [0, 1] (because arr[0] + arr[1] == 9"
   ]
  },
  {
   "cell_type": "code",
   "execution_count": 31,
   "id": "8e1240bf-bd9e-4f43-923f-c647705e5382",
   "metadata": {},
   "outputs": [
    {
     "name": "stdout",
     "output_type": "stream",
     "text": [
      "[0, 1]\n"
     ]
    }
   ],
   "source": [
    "def two_sum(arr, target):\n",
    "   \n",
    "    num_map = {}\n",
    "    \n",
    "    \n",
    "    for i, num in enumerate(arr):\n",
    "        \n",
    "        complement = target - num\n",
    "        \n",
    "        \n",
    "        if complement in num_map:\n",
    "            \n",
    "            return [num_map[complement], i]\n",
    "        \n",
    "        \n",
    "        num_map[num] = i\n",
    "    \n",
    "    \n",
    "    return None\n",
    "\n",
    "\n",
    "arr = [2, 7, 11, 15]\n",
    "target = 9\n",
    "result = two_sum(arr, target)\n",
    "print(result) \n"
   ]
  },
  {
   "cell_type": "code",
   "execution_count": null,
   "id": "5ce3080c-4197-44a9-8a54-4665b478acb8",
   "metadata": {},
   "outputs": [],
   "source": []
  },
  {
   "cell_type": "code",
   "execution_count": null,
   "id": "78ec4c6c-d091-475e-9528-fa7fd84e010e",
   "metadata": {},
   "outputs": [],
   "source": [
    "# 5. Minimum Number of Jumps to Reach End\n",
    "     #• Problem: Given an array of integers where each element represents the\n",
    "     #  maximum jump length from that position, determine the minimum number\n",
    "     #  of jumps required to reach the end of the array.\n",
    "     #  • Input: arr = [6, 2, 4, 0, 5, 1, 1, 4, 2, 9]\n",
    "     #  • Output: 2 (The minimum jumps to reach the end are 6 -> 5 -> 9)"
   ]
  },
  {
   "cell_type": "code",
   "execution_count": 32,
   "id": "26e422d9-0684-42a8-9539-3092c03f47be",
   "metadata": {},
   "outputs": [
    {
     "name": "stdout",
     "output_type": "stream",
     "text": [
      "2\n"
     ]
    }
   ],
   "source": [
    "def min_jumps(arr):\n",
    "    n = len(arr)\n",
    "    \n",
    "    \n",
    "    if n <= 1:\n",
    "        return 0\n",
    "    \n",
    "    jumps = 0\n",
    "    farthest = 0\n",
    "    current_end = 0\n",
    "    \n",
    "    for i in range(n):\n",
    "        \n",
    "        farthest = max(farthest, i + arr[i])\n",
    "        \n",
    "        \n",
    "        if i == current_end:\n",
    "            jumps += 1\n",
    "            current_end = farthest\n",
    "            \n",
    "            \n",
    "            if current_end >= n - 1:\n",
    "                break\n",
    "    \n",
    "    return jumps\n",
    "\n",
    "\n",
    "arr = [6, 2, 4, 0, 5, 1, 1, 4, 2, 9]\n",
    "print(min_jumps(arr)) \n"
   ]
  },
  {
   "cell_type": "code",
   "execution_count": null,
   "id": "951eafc1-4835-449d-a8a5-9cc72368bb12",
   "metadata": {},
   "outputs": [],
   "source": [
    "# 6. Sort Colors (Dutch National Flag Problem)\n",
    "#    • Problem: Given an array containing n objects, where each object is one of\n",
    "#     three colors represented by integers 0, 1, and 2, sort the array in-place\n",
    "#     without using extra space.\n",
    "#     • Input: arr = [2, 0, 2, 1, 1, 0]\n",
    "#     • Output: [0, 0, 1, 1, 2, 2"
   ]
  },
  {
   "cell_type": "code",
   "execution_count": 33,
   "id": "9a027247-6c55-4adf-85ee-1ab06fd7e406",
   "metadata": {},
   "outputs": [
    {
     "name": "stdout",
     "output_type": "stream",
     "text": [
      "[0, 0, 1, 1, 2, 2]\n"
     ]
    }
   ],
   "source": [
    "def sort_colors(arr):\n",
    "    low = 0\n",
    "    mid = 0\n",
    "    high = len(arr) - 1\n",
    "    \n",
    "    while mid <= high:\n",
    "        if arr[mid] == 0:\n",
    "            arr[low], arr[mid] = arr[mid], arr[low] \n",
    "            low += 1\n",
    "            mid += 1\n",
    "        elif arr[mid] == 1:\n",
    "            mid += 1 \n",
    "        else:  # arr[mid] == 2\n",
    "            arr[mid], arr[high] = arr[high], arr[mid] \n",
    "            high -= 1\n",
    "    \n",
    "    return arr\n",
    "\n",
    "\n",
    "arr = [2, 0, 2, 1, 1, 0]\n",
    "print(sort_colors(arr))  \n"
   ]
  },
  {
   "cell_type": "code",
   "execution_count": null,
   "id": "446016cf-5e5a-4da2-bd45-400d7205ae4b",
   "metadata": {},
   "outputs": [],
   "source": [
    "# 7. Trapping Rain Water\n",
    "#    • Problem: Given an array representing the heights of bars, compute how\n",
    "#    much water it can trap after raining.\n",
    "#    • Input: arr = [0, 1, 0, 2, 1, 0, 1, 3, 2, 1, 2, 1]\n",
    "#    • Output: 6 (total water trapped)"
   ]
  },
  {
   "cell_type": "code",
   "execution_count": 34,
   "id": "1f903169-849e-4dd4-9fc0-e72de658e696",
   "metadata": {},
   "outputs": [
    {
     "name": "stdout",
     "output_type": "stream",
     "text": [
      "6\n"
     ]
    }
   ],
   "source": [
    "def trap(arr):\n",
    "    n = len(arr)\n",
    "    if n <= 2:\n",
    "        return 0 \n",
    "\n",
    "    left, right = 0, n - 1\n",
    "    left_max, right_max = arr[left], arr[right]\n",
    "    water_trapped = 0\n",
    "\n",
    "    while left <= right:\n",
    "        if arr[left] <= arr[right]:\n",
    "            if arr[left] >= left_max:\n",
    "                left_max = arr[left]\n",
    "            else:\n",
    "                water_trapped += left_max - arr[left]\n",
    "            left += 1\n",
    "        else:\n",
    "            if arr[right] >= right_max:\n",
    "                right_max = arr[right]\n",
    "            else:\n",
    "                water_trapped += right_max - arr[right]\n",
    "            right -= 1\n",
    "\n",
    "    return water_trapped\n",
    "\n",
    "\n",
    "arr = [0, 1, 0, 2, 1, 0, 1, 3, 2, 1, 2, 1]\n",
    "print(trap(arr))  \n"
   ]
  }
 ],
 "metadata": {
  "kernelspec": {
   "display_name": "Python 3 (ipykernel)",
   "language": "python",
   "name": "python3"
  },
  "language_info": {
   "codemirror_mode": {
    "name": "ipython",
    "version": 3
   },
   "file_extension": ".py",
   "mimetype": "text/x-python",
   "name": "python",
   "nbconvert_exporter": "python",
   "pygments_lexer": "ipython3",
   "version": "3.12.4"
  }
 },
 "nbformat": 4,
 "nbformat_minor": 5
}
